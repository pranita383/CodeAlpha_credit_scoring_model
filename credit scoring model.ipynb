{
 "cells": [
  {
   "cell_type": "code",
   "execution_count": 36,
   "id": "ec8bf2b4-7fe6-4f7c-bb8d-21641bc36e8c",
   "metadata": {},
   "outputs": [],
   "source": [
    "#import necessery libraries\n",
    "import pandas as pd\n",
    "import numpy as np\n",
    "from sklearn.model_selection import train_test_split\n",
    "from sklearn.ensemble import RandomForestClassifier\n",
    "from sklearn.metrics import accuracy_score, confusion_matrix, classification_report\n",
    "from sklearn.preprocessing import LabelEncoder"
   ]
  },
  {
   "cell_type": "code",
   "execution_count": 37,
   "id": "7eb06c96-abc8-4d14-b7ca-08cf640df9fb",
   "metadata": {},
   "outputs": [
    {
     "name": "stdout",
     "output_type": "stream",
     "text": [
      "True\n"
     ]
    }
   ],
   "source": [
    "import os\n",
    "print(os.path.exists('credit_data.csv'))"
   ]
  },
  {
   "cell_type": "code",
   "execution_count": 38,
   "id": "9e01a1f9-a8ea-418f-a481-967e88f4d8e0",
   "metadata": {},
   "outputs": [],
   "source": [
    "data = pd.read_csv('credit_data.csv')"
   ]
  },
  {
   "cell_type": "code",
   "execution_count": 39,
   "id": "713fdfa8-3ff5-447d-9d30-158a2924bce0",
   "metadata": {},
   "outputs": [
    {
     "name": "stdout",
     "output_type": "stream",
     "text": [
      "  checking_balance  months_loan_duration credit_history    purpose  amount  \\\n",
      "0           < 0 DM                     6       critical   radio/tv    1169   \n",
      "1       1 - 200 DM                    48         repaid   radio/tv    5951   \n",
      "2          unknown                    12       critical  education    2096   \n",
      "3           < 0 DM                    42         repaid  furniture    7882   \n",
      "4           < 0 DM                    24        delayed  car (new)    4870   \n",
      "\n",
      "  savings_balance employment_length  installment_rate personal_status  \\\n",
      "0         unknown           > 7 yrs                 4     single male   \n",
      "1        < 100 DM         1 - 4 yrs                 2          female   \n",
      "2        < 100 DM         4 - 7 yrs                 2     single male   \n",
      "3        < 100 DM         4 - 7 yrs                 2     single male   \n",
      "4        < 100 DM         1 - 4 yrs                 3     single male   \n",
      "\n",
      "  other_debtors  ...                  property age  installment_plan  \\\n",
      "0          none  ...               real estate  67              none   \n",
      "1          none  ...               real estate  22              none   \n",
      "2          none  ...               real estate  49              none   \n",
      "3     guarantor  ...  building society savings  45              none   \n",
      "4          none  ...              unknown/none  53              none   \n",
      "\n",
      "    housing existing_credits  default  dependents  telephone foreign_worker  \\\n",
      "0       own                2        1           1        yes            yes   \n",
      "1       own                1        2           1       none            yes   \n",
      "2       own                1        1           2       none            yes   \n",
      "3  for free                1        1           2       none            yes   \n",
      "4  for free                2        2           2       none            yes   \n",
      "\n",
      "                  job  \n",
      "0    skilled employee  \n",
      "1    skilled employee  \n",
      "2  unskilled resident  \n",
      "3    skilled employee  \n",
      "4    skilled employee  \n",
      "\n",
      "[5 rows x 21 columns]\n"
     ]
    }
   ],
   "source": [
    "print(data.head())"
   ]
  },
  {
   "cell_type": "code",
   "execution_count": 40,
   "id": "b5acf770-9bd3-4513-a8cc-4e446facb378",
   "metadata": {},
   "outputs": [
    {
     "name": "stdout",
     "output_type": "stream",
     "text": [
      "the no of rows are 1000 and the no of cloumns are 21\n"
     ]
    }
   ],
   "source": [
    "print(\"the no of rows are {} and the no of cloumns are {}\".format(data.shape[0],data.shape[1]))"
   ]
  },
  {
   "cell_type": "code",
   "execution_count": 41,
   "id": "6901c7d2-08cf-40e1-9b8d-7e858a1464c6",
   "metadata": {},
   "outputs": [
    {
     "name": "stdout",
     "output_type": "stream",
     "text": [
      "<class 'pandas.core.frame.DataFrame'>\n",
      "RangeIndex: 1000 entries, 0 to 999\n",
      "Data columns (total 21 columns):\n",
      " #   Column                Non-Null Count  Dtype \n",
      "---  ------                --------------  ----- \n",
      " 0   checking_balance      1000 non-null   object\n",
      " 1   months_loan_duration  1000 non-null   int64 \n",
      " 2   credit_history        1000 non-null   object\n",
      " 3   purpose               1000 non-null   object\n",
      " 4   amount                1000 non-null   int64 \n",
      " 5   savings_balance       1000 non-null   object\n",
      " 6   employment_length     1000 non-null   object\n",
      " 7   installment_rate      1000 non-null   int64 \n",
      " 8   personal_status       1000 non-null   object\n",
      " 9   other_debtors         1000 non-null   object\n",
      " 10  residence_history     1000 non-null   int64 \n",
      " 11  property              1000 non-null   object\n",
      " 12  age                   1000 non-null   int64 \n",
      " 13  installment_plan      1000 non-null   object\n",
      " 14  housing               1000 non-null   object\n",
      " 15  existing_credits      1000 non-null   int64 \n",
      " 16  default               1000 non-null   int64 \n",
      " 17  dependents            1000 non-null   int64 \n",
      " 18  telephone             1000 non-null   object\n",
      " 19  foreign_worker        1000 non-null   object\n",
      " 20  job                   1000 non-null   object\n",
      "dtypes: int64(8), object(13)\n",
      "memory usage: 164.2+ KB\n"
     ]
    }
   ],
   "source": [
    "data.info()"
   ]
  },
  {
   "cell_type": "code",
   "execution_count": 42,
   "id": "4251453a-7fc9-4a7c-b0e4-50c6dc841c26",
   "metadata": {},
   "outputs": [
    {
     "data": {
      "text/html": [
       "<div>\n",
       "<style scoped>\n",
       "    .dataframe tbody tr th:only-of-type {\n",
       "        vertical-align: middle;\n",
       "    }\n",
       "\n",
       "    .dataframe tbody tr th {\n",
       "        vertical-align: top;\n",
       "    }\n",
       "\n",
       "    .dataframe thead th {\n",
       "        text-align: right;\n",
       "    }\n",
       "</style>\n",
       "<table border=\"1\" class=\"dataframe\">\n",
       "  <thead>\n",
       "    <tr style=\"text-align: right;\">\n",
       "      <th></th>\n",
       "      <th>count</th>\n",
       "      <th>mean</th>\n",
       "      <th>std</th>\n",
       "      <th>min</th>\n",
       "      <th>25%</th>\n",
       "      <th>50%</th>\n",
       "      <th>75%</th>\n",
       "      <th>max</th>\n",
       "    </tr>\n",
       "  </thead>\n",
       "  <tbody>\n",
       "    <tr>\n",
       "      <th>months_loan_duration</th>\n",
       "      <td>1000.0</td>\n",
       "      <td>20.903</td>\n",
       "      <td>12.058814</td>\n",
       "      <td>4.0</td>\n",
       "      <td>12.0</td>\n",
       "      <td>18.0</td>\n",
       "      <td>24.00</td>\n",
       "      <td>72.0</td>\n",
       "    </tr>\n",
       "    <tr>\n",
       "      <th>amount</th>\n",
       "      <td>1000.0</td>\n",
       "      <td>3271.258</td>\n",
       "      <td>2822.736876</td>\n",
       "      <td>250.0</td>\n",
       "      <td>1365.5</td>\n",
       "      <td>2319.5</td>\n",
       "      <td>3972.25</td>\n",
       "      <td>18424.0</td>\n",
       "    </tr>\n",
       "    <tr>\n",
       "      <th>installment_rate</th>\n",
       "      <td>1000.0</td>\n",
       "      <td>2.973</td>\n",
       "      <td>1.118715</td>\n",
       "      <td>1.0</td>\n",
       "      <td>2.0</td>\n",
       "      <td>3.0</td>\n",
       "      <td>4.00</td>\n",
       "      <td>4.0</td>\n",
       "    </tr>\n",
       "    <tr>\n",
       "      <th>residence_history</th>\n",
       "      <td>1000.0</td>\n",
       "      <td>2.845</td>\n",
       "      <td>1.103718</td>\n",
       "      <td>1.0</td>\n",
       "      <td>2.0</td>\n",
       "      <td>3.0</td>\n",
       "      <td>4.00</td>\n",
       "      <td>4.0</td>\n",
       "    </tr>\n",
       "    <tr>\n",
       "      <th>age</th>\n",
       "      <td>1000.0</td>\n",
       "      <td>35.546</td>\n",
       "      <td>11.375469</td>\n",
       "      <td>19.0</td>\n",
       "      <td>27.0</td>\n",
       "      <td>33.0</td>\n",
       "      <td>42.00</td>\n",
       "      <td>75.0</td>\n",
       "    </tr>\n",
       "    <tr>\n",
       "      <th>existing_credits</th>\n",
       "      <td>1000.0</td>\n",
       "      <td>1.407</td>\n",
       "      <td>0.577654</td>\n",
       "      <td>1.0</td>\n",
       "      <td>1.0</td>\n",
       "      <td>1.0</td>\n",
       "      <td>2.00</td>\n",
       "      <td>4.0</td>\n",
       "    </tr>\n",
       "    <tr>\n",
       "      <th>default</th>\n",
       "      <td>1000.0</td>\n",
       "      <td>1.300</td>\n",
       "      <td>0.458487</td>\n",
       "      <td>1.0</td>\n",
       "      <td>1.0</td>\n",
       "      <td>1.0</td>\n",
       "      <td>2.00</td>\n",
       "      <td>2.0</td>\n",
       "    </tr>\n",
       "    <tr>\n",
       "      <th>dependents</th>\n",
       "      <td>1000.0</td>\n",
       "      <td>1.155</td>\n",
       "      <td>0.362086</td>\n",
       "      <td>1.0</td>\n",
       "      <td>1.0</td>\n",
       "      <td>1.0</td>\n",
       "      <td>1.00</td>\n",
       "      <td>2.0</td>\n",
       "    </tr>\n",
       "  </tbody>\n",
       "</table>\n",
       "</div>"
      ],
      "text/plain": [
       "                       count      mean          std    min     25%     50%  \\\n",
       "months_loan_duration  1000.0    20.903    12.058814    4.0    12.0    18.0   \n",
       "amount                1000.0  3271.258  2822.736876  250.0  1365.5  2319.5   \n",
       "installment_rate      1000.0     2.973     1.118715    1.0     2.0     3.0   \n",
       "residence_history     1000.0     2.845     1.103718    1.0     2.0     3.0   \n",
       "age                   1000.0    35.546    11.375469   19.0    27.0    33.0   \n",
       "existing_credits      1000.0     1.407     0.577654    1.0     1.0     1.0   \n",
       "default               1000.0     1.300     0.458487    1.0     1.0     1.0   \n",
       "dependents            1000.0     1.155     0.362086    1.0     1.0     1.0   \n",
       "\n",
       "                          75%      max  \n",
       "months_loan_duration    24.00     72.0  \n",
       "amount                3972.25  18424.0  \n",
       "installment_rate         4.00      4.0  \n",
       "residence_history        4.00      4.0  \n",
       "age                     42.00     75.0  \n",
       "existing_credits         2.00      4.0  \n",
       "default                  2.00      2.0  \n",
       "dependents               1.00      2.0  "
      ]
     },
     "execution_count": 42,
     "metadata": {},
     "output_type": "execute_result"
    }
   ],
   "source": [
    "data.describe().T"
   ]
  },
  {
   "cell_type": "code",
   "execution_count": 43,
   "id": "4c1f1013-7d8f-445f-8973-856dfe9a1f93",
   "metadata": {},
   "outputs": [
    {
     "name": "stdout",
     "output_type": "stream",
     "text": [
      "checking_balance        0\n",
      "months_loan_duration    0\n",
      "credit_history          0\n",
      "purpose                 0\n",
      "amount                  0\n",
      "savings_balance         0\n",
      "employment_length       0\n",
      "installment_rate        0\n",
      "personal_status         0\n",
      "other_debtors           0\n",
      "residence_history       0\n",
      "property                0\n",
      "age                     0\n",
      "installment_plan        0\n",
      "housing                 0\n",
      "existing_credits        0\n",
      "default                 0\n",
      "dependents              0\n",
      "telephone               0\n",
      "foreign_worker          0\n",
      "job                     0\n",
      "dtype: int64\n"
     ]
    }
   ],
   "source": [
    "if data.empty:\n",
    "    print(\"dataset is empty\")\n",
    "else:\n",
    "    print(data.isnull().sum())"
   ]
  },
  {
   "cell_type": "code",
   "execution_count": 44,
   "id": "bbe83e1e-ca4d-4e01-aea7-8cb3d3d85609",
   "metadata": {},
   "outputs": [],
   "source": [
    "numeric_columns = data.select_dtypes(include= [np.number]).columns \n",
    "data[numeric_columns] = data[numeric_columns].fillna(data[numeric_columns].mean())"
   ]
  },
  {
   "cell_type": "code",
   "execution_count": 48,
   "id": "f222a5d2-4559-468d-b123-5aaf1277fcfe",
   "metadata": {
    "scrolled": true
   },
   "outputs": [],
   "source": [
    "categorical_columns = data.select_dtypes(include=[object]).columns\n",
    "label_encoders = {}\n",
    "for col in categorical_columns:\n",
    "    le = LabelEncoder()\n",
    "    data[col] = le.fit_transform(data[col])\n",
    "    label_encoders[col] = le"
   ]
  },
  {
   "cell_type": "code",
   "execution_count": 49,
   "id": "7eadcab1-c77c-477a-a0af-08786b102eea",
   "metadata": {},
   "outputs": [
    {
     "name": "stdout",
     "output_type": "stream",
     "text": [
      "checking_balance        int32\n",
      "months_loan_duration    int64\n",
      "credit_history          int32\n",
      "purpose                 int32\n",
      "amount                  int64\n",
      "savings_balance         int32\n",
      "employment_length       int32\n",
      "installment_rate        int64\n",
      "personal_status         int32\n",
      "other_debtors           int32\n",
      "residence_history       int64\n",
      "property                int32\n",
      "age                     int64\n",
      "installment_plan        int32\n",
      "housing                 int32\n",
      "existing_credits        int64\n",
      "default                 int64\n",
      "dependents              int64\n",
      "telephone               int32\n",
      "foreign_worker          int32\n",
      "job                     int32\n",
      "dtype: object\n"
     ]
    }
   ],
   "source": [
    "print(data.dtypes)"
   ]
  },
  {
   "cell_type": "code",
   "execution_count": 50,
   "id": "8d6b95f8-3a57-499f-b935-fe3bc25e2cfd",
   "metadata": {},
   "outputs": [],
   "source": [
    "x = data.drop('credit_history', axis=1)\n",
    "y = data['credit_history']"
   ]
  },
  {
   "cell_type": "code",
   "execution_count": 51,
   "id": "1560ab48-288f-49bd-bdfe-1476f65ba4b3",
   "metadata": {},
   "outputs": [],
   "source": [
    "assert len(x) == len(y), \"mismatch in number of rows between features and target variables\""
   ]
  },
  {
   "cell_type": "code",
   "execution_count": 52,
   "id": "4b3c5295-b5c3-4cd9-8fad-ceca15da77e7",
   "metadata": {},
   "outputs": [
    {
     "name": "stdout",
     "output_type": "stream",
     "text": [
      "data split successfully!\n"
     ]
    }
   ],
   "source": [
    "try:\n",
    "    x_train, x_test, y_train, y_test=train_test_split(x,y,test_size=0.3, random_state=42)\n",
    "    print(\"data split successfully!\")\n",
    "except Exception as e:\n",
    "    print(f\"error during data split: {e}\")"
   ]
  },
  {
   "cell_type": "code",
   "execution_count": 53,
   "id": "9a5f1c0a-7cf7-4e80-a9cf-b5b605abd49b",
   "metadata": {},
   "outputs": [],
   "source": [
    "clf = RandomForestClassifier(n_estimators=100, random_state=42)"
   ]
  },
  {
   "cell_type": "code",
   "execution_count": 54,
   "id": "23a800c2-cde0-433d-9068-6f0fd575dc17",
   "metadata": {},
   "outputs": [],
   "source": [
    "try:\n",
    "    clf.fit(x_train, y_train)\n",
    "except ValueError as e:\n",
    "    print(f\"error during model training:{e}\")"
   ]
  },
  {
   "cell_type": "code",
   "execution_count": 55,
   "id": "22d2aa8c-0850-4e76-95ab-8743f5dd79a7",
   "metadata": {},
   "outputs": [],
   "source": [
    "try:\n",
    "    y_pred = clf.predict(x_test)\n",
    "except  ValueError as e:\n",
    "    print(f\"error during prediction:{e}\")"
   ]
  },
  {
   "cell_type": "code",
   "execution_count": 56,
   "id": "ef299437-a190-4df1-a9e5-bdac71dc3f22",
   "metadata": {},
   "outputs": [
    {
     "name": "stdout",
     "output_type": "stream",
     "text": [
      "accuracy: 0.7333333333333333\n",
      "confusion matrix:\n",
      "[[ 62   2   0   0  18]\n",
      " [ 12   0   1   0  10]\n",
      " [  0   1   1   0   5]\n",
      " [  0   0   1   0  14]\n",
      " [ 14   1   0   1 157]]\n",
      "classification report:\n",
      "              precision    recall  f1-score   support\n",
      "\n",
      "           0       0.70      0.76      0.73        82\n",
      "           1       0.00      0.00      0.00        23\n",
      "           2       0.33      0.14      0.20         7\n",
      "           3       0.00      0.00      0.00        15\n",
      "           4       0.77      0.91      0.83       173\n",
      "\n",
      "    accuracy                           0.73       300\n",
      "   macro avg       0.36      0.36      0.35       300\n",
      "weighted avg       0.64      0.73      0.68       300\n",
      "\n"
     ]
    }
   ],
   "source": [
    "try:\n",
    "    accuracy = accuracy_score(y_test, y_pred)\n",
    "    conf_matrix = confusion_matrix(y_test, y_pred)\n",
    "    class_report = classification_report(y_test, y_pred)\n",
    "    print(f'accuracy: {accuracy}')\n",
    "    print('confusion matrix:')\n",
    "    print(conf_matrix)\n",
    "    print('classification report:')\n",
    "    print(class_report)\n",
    "except ValueError as e:\n",
    "    print(f\"error during evaluation:{e}\")"
   ]
  },
  {
   "cell_type": "code",
   "execution_count": null,
   "id": "d188c56f-b6d0-49c3-85d5-bc17baac5a17",
   "metadata": {},
   "outputs": [],
   "source": []
  },
  {
   "cell_type": "code",
   "execution_count": null,
   "id": "8e703de5-ccc5-4b17-b7e4-b471b99dd3e7",
   "metadata": {},
   "outputs": [],
   "source": []
  }
 ],
 "metadata": {
  "kernelspec": {
   "display_name": "Python 3 (ipykernel)",
   "language": "python",
   "name": "python3"
  },
  "language_info": {
   "codemirror_mode": {
    "name": "ipython",
    "version": 3
   },
   "file_extension": ".py",
   "mimetype": "text/x-python",
   "name": "python",
   "nbconvert_exporter": "python",
   "pygments_lexer": "ipython3",
   "version": "3.12.4"
  }
 },
 "nbformat": 4,
 "nbformat_minor": 5
}
